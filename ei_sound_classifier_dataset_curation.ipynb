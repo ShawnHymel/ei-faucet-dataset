{
  "nbformat": 4,
  "nbformat_minor": 0,
  "metadata": {
    "colab": {
      "name": "ei-sound-classifier-dataset-curation.ipynb",
      "provenance": [],
      "collapsed_sections": [],
      "authorship_tag": "ABX9TyMwwobZpFNiok2OpG+TOZXn",
      "include_colab_link": true
    },
    "kernelspec": {
      "name": "python3",
      "display_name": "Python 3"
    }
  },
  "cells": [
    {
      "cell_type": "markdown",
      "metadata": {
        "id": "view-in-github",
        "colab_type": "text"
      },
      "source": [
        "<a href=\"https://colab.research.google.com/github/ShawnHymel/ei-faucet-dataset/blob/master/ei_sound_classifier_dataset_curation.ipynb\" target=\"_parent\"><img src=\"https://colab.research.google.com/assets/colab-badge.svg\" alt=\"Open In Colab\"/></a>"
      ]
    },
    {
      "cell_type": "markdown",
      "metadata": {
        "id": "lovs4DS-uMAw"
      },
      "source": [
        "# Sound Classifier Dataset Curation\r\n",
        "\r\n",
        "[![Open In Colab <](https://colab.research.google.com/assets/colab-badge.svg)](https://colab.research.google.com/github/ShawnHymel/ei-faucet-dataset/blob/master/ei_sound_classifier_dataset_curation.ipynb)\r\n",
        "\r\n",
        "Use this tool to download the Edge Impulse faucet dataset, combine it with your own sound samples, mix in some background noise, and upload the curated dataset to Edge Impulse. From there, you can train a neural network to classify sound events and upload it to a microcontroller to perform real-time sound event classification.\r\n",
        "\r\n",
        " 1. Upload samples of your own sounds (optional)\r\n",
        " 2. Adjust parameters in the Settings cell (you will need an [Edge Impulse](https://www.edgeimpulse.com/) account)\r\n",
        " 3. Run the rest of the cells! ('shift' + 'enter' on each cell)"
      ]
    },
    {
      "cell_type": "markdown",
      "metadata": {
        "id": "1FdGyqAfrWEf"
      },
      "source": [
        "### Upload your own keyword samples\r\n",
        "If you'd like to upload your own custom sound dataset, follow these instructions:\r\n",
        "\r\n",
        "On the left pane, in the file browser, create a directory structure containing space for your keyword audio samples. All samples for each keyword should be in a directory with that keyword's name. \r\n",
        "\r\n",
        "The audio samples should be `.wav` format, mono, and 1 second long. Bitrate and bitdepth should not matter. Samples shorter than 1 second will be padded with 0s, and samples longer than 1 second will be truncated to 1 second. The exact name of each `.wav` file does not matter, as they will be read, mixed with background noise, and saved to a separate file with an auto-generated name. Directory name does matter (it is used to determine the name of the class during neural network training).\r\n",
        "\r\n",
        "Right-click on each keyword directory and upload all of your samples. Your directory structor should look like the following:\r\n",
        "\r\n",
        "```\r\n",
        "/\r\n",
        "|- content\r\n",
        "|--- custom_sounds\r\n",
        "|----- sound_1\r\n",
        "|------- 000.wav\r\n",
        "|------- 001.wav\r\n",
        "|------- ...\r\n",
        "|----- sound_2\r\n",
        "|------- 000.wav\r\n",
        "|------- 001.wav\r\n",
        "|------- ...\r\n",
        "|----- ...\r\n",
        "```"
      ]
    },
    {
      "cell_type": "code",
      "metadata": {
        "colab": {
          "base_uri": "https://localhost:8080/"
        },
        "id": "c2FMqP-GrhR4",
        "outputId": "b4ccb88d-c4bb-4afb-8681-38f2eb91ad2a"
      },
      "source": [
        "### Update Node.js to the latest stable version\r\n",
        "!npm cache clean -f\r\n",
        "!npm install -g n\r\n",
        "!n stable"
      ],
      "execution_count": 1,
      "outputs": [
        {
          "output_type": "stream",
          "text": [
            "\u001b[37;40mnpm\u001b[0m \u001b[0m\u001b[30;43mWARN\u001b[0m \u001b[0m\u001b[35musing --force\u001b[0m I sure hope you know what you are doing.\n",
            "\u001b[K\u001b[?25h/tools/node/bin/n -> /tools/node/lib/node_modules/n/bin/n\n",
            "+ n@7.0.0\n",
            "added 1 package from 4 contributors in 0.274s\n",
            "\n",
            "\u001b[33m\u001b[39m\n",
            "\u001b[33m   ╭─────────────────────────────────────────────────────────────────╮\u001b[39m\n",
            "   \u001b[33m│\u001b[39m                                                                 \u001b[33m│\u001b[39m\n",
            "   \u001b[33m│\u001b[39m      New \u001b[32mpatch\u001b[39m version of npm available! \u001b[31m6.14.8\u001b[39m → \u001b[32m6.14.10\u001b[39m       \u001b[33m│\u001b[39m\n",
            "   \u001b[33m│\u001b[39m   \u001b[33mChangelog:\u001b[39m \u001b[36mhttps://github.com/npm/cli/releases/tag/v6.14.10\u001b[39m   \u001b[33m│\u001b[39m\n",
            "   \u001b[33m│\u001b[39m                Run \u001b[32mnpm install -g npm\u001b[39m to update!                \u001b[33m│\u001b[39m\n",
            "   \u001b[33m│\u001b[39m                                                                 \u001b[33m│\u001b[39m\n",
            "\u001b[33m   ╰─────────────────────────────────────────────────────────────────╯\u001b[39m\n",
            "\u001b[33m\u001b[39m\n",
            "  \u001b[36minstalling\u001b[0m : \u001b[2mnode-v14.15.4\u001b[0m\n",
            "  \u001b[36m     mkdir\u001b[0m : \u001b[2m/usr/local/n/versions/node/14.15.4\u001b[0m\n",
            "  \u001b[36m     fetch\u001b[0m : \u001b[2mhttps://nodejs.org/dist/v14.15.4/node-v14.15.4-linux-x64.tar.xz\u001b[0m\n",
            "######################################################################## 100.0%\n",
            "\u001b[1A\u001b[2K  \u001b[36m installed\u001b[0m : \u001b[2mv14.15.4 (with npm 6.14.10)\u001b[0m\n",
            "\n",
            "Note: the node command changed location and the old location may be remembered in your current shell.\n",
            "  \u001b[36m       old\u001b[0m : \u001b[2m/tools/node/bin/node\u001b[0m\n",
            "  \u001b[36m       new\u001b[0m : \u001b[2m/usr/local/bin/node\u001b[0m\n",
            "To reset the command location hash either start a new shell, or execute PATH=\"$PATH\"\n"
          ],
          "name": "stdout"
        }
      ]
    },
    {
      "cell_type": "code",
      "metadata": {
        "colab": {
          "base_uri": "https://localhost:8080/"
        },
        "id": "TaSxDpLzrlBi",
        "outputId": "ecf3a1fd-d1d3-4279-8469-ae1658d4b8d5"
      },
      "source": [
        "### Install required packages and tools\r\n",
        "!python -m pip install soundfile\r\n",
        "!npm install -g --unsafe-perm edge-impulse-cli"
      ],
      "execution_count": 2,
      "outputs": [
        {
          "output_type": "stream",
          "text": [
            "Collecting soundfile\n",
            "  Downloading https://files.pythonhosted.org/packages/eb/f2/3cbbbf3b96fb9fa91582c438b574cff3f45b29c772f94c400e2c99ef5db9/SoundFile-0.10.3.post1-py2.py3-none-any.whl\n",
            "Requirement already satisfied: cffi>=1.0 in /usr/local/lib/python3.6/dist-packages (from soundfile) (1.14.4)\n",
            "Requirement already satisfied: pycparser in /usr/local/lib/python3.6/dist-packages (from cffi>=1.0->soundfile) (2.20)\n",
            "Installing collected packages: soundfile\n",
            "Successfully installed soundfile-0.10.3.post1\n",
            "\u001b[K\u001b[?25h\u001b[37;40mnpm\u001b[0m \u001b[0m\u001b[30;43mWARN\u001b[0m \u001b[0m\u001b[35mdeprecated\u001b[0m request-promise@4.2.6: request-promise has been deprecated because it extends the now deprecated request package, see https://github.com/request/request/issues/3142\n",
            "\u001b[0m\u001b[37;40mnpm\u001b[0m \u001b[0m\u001b[30;43mWARN\u001b[0m \u001b[0m\u001b[35mdeprecated\u001b[0m request@2.88.2: request has been deprecated, see https://github.com/request/request/issues/3142\n",
            "\u001b[0m\u001b[37;40mnpm\u001b[0m \u001b[0m\u001b[30;43mWARN\u001b[0m \u001b[0m\u001b[35mdeprecated\u001b[0m @zeit/dockerignore@0.0.5: \"@zeit/dockerignore\" is no longer maintained\n",
            "\u001b[K\u001b[?25h\u001b[37;40mnpm\u001b[0m \u001b[0m\u001b[30;43mWARN\u001b[0m \u001b[0m\u001b[35mdeprecated\u001b[0m har-validator@5.1.5: this library is no longer supported\n",
            "\u001b[K\u001b[?25h/usr/local/bin/edge-impulse-blocks -> /usr/local/lib/node_modules/edge-impulse-cli/build/cli/blocks.js\n",
            "/usr/local/bin/edge-impulse-daemon -> /usr/local/lib/node_modules/edge-impulse-cli/build/cli/daemon.js\n",
            "/usr/local/bin/edge-impulse-uploader -> /usr/local/lib/node_modules/edge-impulse-cli/build/cli/uploader.js\n",
            "/usr/local/bin/edge-impulse-run-impulse -> /usr/local/lib/node_modules/edge-impulse-cli/build/cli/run-impulse.js\n",
            "/usr/local/bin/eta-flash-tool -> /usr/local/lib/node_modules/edge-impulse-cli/build/cli/eta-flash-tool/flashtool.js\n",
            "/usr/local/bin/edge-impulse-framebuffer2jpg -> /usr/local/lib/node_modules/edge-impulse-cli/build/cli/framebuffer-to-jpg.js\n",
            "/usr/local/bin/himax-flash-tool -> /usr/local/lib/node_modules/edge-impulse-cli/build/cli/himax-flash-tool/flashtool.js\n",
            "/usr/local/bin/edge-impulse-data-forwarder -> /usr/local/lib/node_modules/edge-impulse-cli/build/cli/data-forwarder.js\n",
            "\u001b[K\u001b[?25h\n",
            "> @serialport/bindings@8.0.8 install /usr/local/lib/node_modules/edge-impulse-cli/node_modules/@serialport/bindings\n",
            "> prebuild-install --tag-prefix @serialport/bindings@ || node-gyp rebuild\n",
            "\n",
            "\u001b[37;40mprebuild-install\u001b[0m \u001b[0m\u001b[30;43mWARN\u001b[0m \u001b[0m\u001b[35minstall\u001b[0m No prebuilt binaries found (target=14.15.4 runtime=node arch=x64 libc= platform=linux)\n",
            "\u001b[0mmake: Entering directory '/usr/local/lib/node_modules/edge-impulse-cli/node_modules/@serialport/bindings/build'\n",
            "  CXX(target) Release/obj.target/bindings/src/serialport.o\n",
            "  CXX(target) Release/obj.target/bindings/src/serialport_unix.o\n",
            "\u001b[01m\u001b[K../src/serialport_unix.cpp:\u001b[m\u001b[K In function ‘\u001b[01m\u001b[Kint setup(int, OpenBaton*)\u001b[m\u001b[K’:\n",
            "\u001b[01m\u001b[K../src/serialport_unix.cpp:166:5:\u001b[m\u001b[K \u001b[01;35m\u001b[Kwarning: \u001b[m\u001b[K‘\u001b[01m\u001b[K%s\u001b[m\u001b[K’ directive output may be truncated writing up to 1023 bytes into a region of size 1005 [\u001b[01;35m\u001b[K-Wformat-truncation=\u001b[m\u001b[K]\n",
            " int \u001b[01;35m\u001b[Ksetup\u001b[m\u001b[K(int fd, OpenBaton *data) {\n",
            "     \u001b[01;35m\u001b[K^~~~~\u001b[m\u001b[K\n",
            "In file included from \u001b[01m\u001b[K/usr/include/stdio.h:862:0\u001b[m\u001b[K,\n",
            "                 from \u001b[01m\u001b[K../src/serialport.h:3\u001b[m\u001b[K,\n",
            "                 from \u001b[01m\u001b[K../src/serialport_unix.cpp:2\u001b[m\u001b[K:\n",
            "\u001b[01m\u001b[K/usr/include/x86_64-linux-gnu/bits/stdio2.h:65:44:\u001b[m\u001b[K \u001b[01;36m\u001b[Knote: \u001b[m\u001b[K‘\u001b[01m\u001b[K__builtin___snprintf_chk\u001b[m\u001b[K’ output 20 or more bytes (assuming 1043) into a destination of size 1024\n",
            "        __bos (__s), __fmt, __va_arg_pack ()\u001b[01;36m\u001b[K)\u001b[m\u001b[K;\n",
            "                                            \u001b[01;36m\u001b[K^\u001b[m\u001b[K\n",
            "\u001b[01m\u001b[K../src/serialport_unix.cpp:\u001b[m\u001b[K In function ‘\u001b[01m\u001b[Kvoid EIO_Open(uv_work_t*)\u001b[m\u001b[K’:\n",
            "\u001b[01m\u001b[K../src/serialport_unix.cpp:79:6:\u001b[m\u001b[K \u001b[01;35m\u001b[Kwarning: \u001b[m\u001b[K‘\u001b[01m\u001b[K%s\u001b[m\u001b[K’ directive output may be truncated writing up to 1023 bytes into a region of size 1003 [\u001b[01;35m\u001b[K-Wformat-truncation=\u001b[m\u001b[K]\n",
            " void \u001b[01;35m\u001b[KEIO_Open\u001b[m\u001b[K(uv_work_t* req) {\n",
            "      \u001b[01;35m\u001b[K^~~~~~~~\u001b[m\u001b[K\n",
            "In file included from \u001b[01m\u001b[K/usr/include/stdio.h:862:0\u001b[m\u001b[K,\n",
            "                 from \u001b[01m\u001b[K../src/serialport.h:3\u001b[m\u001b[K,\n",
            "                 from \u001b[01m\u001b[K../src/serialport_unix.cpp:2\u001b[m\u001b[K:\n",
            "\u001b[01m\u001b[K/usr/include/x86_64-linux-gnu/bits/stdio2.h:65:44:\u001b[m\u001b[K \u001b[01;36m\u001b[Knote: \u001b[m\u001b[K‘\u001b[01m\u001b[K__builtin___snprintf_chk\u001b[m\u001b[K’ output 22 or more bytes (assuming 1045) into a destination of size 1024\n",
            "        __bos (__s), __fmt, __va_arg_pack ()\u001b[01;36m\u001b[K)\u001b[m\u001b[K;\n",
            "                                            \u001b[01;36m\u001b[K^\u001b[m\u001b[K\n",
            "  CXX(target) Release/obj.target/bindings/src/poller.o\n",
            "  CXX(target) Release/obj.target/bindings/src/serialport_linux.o\n",
            "  SOLINK_MODULE(target) Release/obj.target/bindings.node\n",
            "  COPY Release/bindings.node\n",
            "make: Leaving directory '/usr/local/lib/node_modules/edge-impulse-cli/node_modules/@serialport/bindings/build'\n",
            "\u001b[K\u001b[?25h\n",
            "> serialport@8.0.8 postinstall /usr/local/lib/node_modules/edge-impulse-cli/node_modules/serialport\n",
            "> node thank-you.js\n",
            "\n",
            "\u001b[96m\u001b[1mThank you for using serialport!\u001b[96m\u001b[1m\n",
            "\u001b[0m\u001b[96mIf you rely on this package, please consider supporting our open collective:\u001b[22m\u001b[39m\n",
            "> \u001b[94mhttps://opencollective.com/serialport/donate\u001b[0m\n",
            "\n",
            "\n",
            "+ edge-impulse-cli@1.10.2\n",
            "added 294 packages from 238 contributors in 20.021s\n"
          ],
          "name": "stdout"
        }
      ]
    },
    {
      "cell_type": "code",
      "metadata": {
        "id": "bbAW0AHvuiOR"
      },
      "source": [
        "### Imports\r\n",
        "from os.path import join"
      ],
      "execution_count": 3,
      "outputs": []
    },
    {
      "cell_type": "code",
      "metadata": {
        "id": "Ye9qXIgSrmJb"
      },
      "source": [
        "### Settings (You probably do not need to change these)\r\n",
        "BASE_DIR = \"/content\"\r\n",
        "OUT_DIR = \"sounds_curated\"\r\n",
        "EI_DATASET_FILENAME = \"faucet_dataset_v01.zip\"\r\n",
        "EI_DATASET_URL = \"https://github.com/ShawnHymel/ei-faucet-dataset/raw/master/\" + EI_DATASET_FILENAME\r\n",
        "EI_DATASET_DIR = \"faucet_dataset\"\r\n",
        "CURATION_SCRIPT = \"dataset-curation.py\"\r\n",
        "CURATION_SCRIPT_URL = \"https://raw.githubusercontent.com/ShawnHymel/ei-keyword-spotting/master/\" + CURATION_SCRIPT\r\n",
        "UTILS_SCRIPT_URL = \"https://raw.githubusercontent.com/ShawnHymel/ei-keyword-spotting/master/utils.py\"\r\n",
        "NUM_SAMPLES = 1500    # Target number of samples to mix and send to Edge Impulse\r\n",
        "WORD_VOL = 1.0        # Relative volume of word in output sample\r\n",
        "BG_VOL = 0.1          # Relative volume of noise in output sample\r\n",
        "SAMPLE_TIME = 1.0     # Time (seconds) of output sample\r\n",
        "SAMPLE_RATE = 16000   # Sample rate (Hz) of output sample\r\n",
        "BIT_DEPTH = \"PCM_16\"  # Options: [PCM_16, PCM_24, PCM_32, PCM_U8, FLOAT, DOUBLE]\r\n",
        "BG_DIR = \"noise\"\r\n",
        "TEST_RATIO = 0.2      # 20% reserved for test set, rest is for training\r\n",
        "EI_INGEST_TEST_URL = \"https://ingestion.edgeimpulse.com/api/test/data\"\r\n",
        "EI_INGEST_TRAIN_URL = \"https://ingestion.edgeimpulse.com/api/training/data\""
      ],
      "execution_count": 4,
      "outputs": []
    },
    {
      "cell_type": "code",
      "metadata": {
        "colab": {
          "base_uri": "https://localhost:8080/"
        },
        "id": "l2SEmjzrscnU",
        "outputId": "7fc9d983-3950-4d91-d027-355ad077d1a1"
      },
      "source": [
        "### Download Edge Impulse faucet dataset\r\n",
        "!cd {BASE_DIR}\r\n",
        "!wget {EI_DATASET_URL}\r\n",
        "!echo \"Extracting...\"\r\n",
        "!unzip -q {EI_DATASET_FILENAME}"
      ],
      "execution_count": 5,
      "outputs": [
        {
          "output_type": "stream",
          "text": [
            "--2021-01-07 01:33:16--  https://github.com/ShawnHymel/ei-faucet-dataset/raw/master/faucet_dataset_v01.zip\n",
            "Resolving github.com (github.com)... 192.30.255.112\n",
            "Connecting to github.com (github.com)|192.30.255.112|:443... connected.\n",
            "HTTP request sent, awaiting response... 302 Found\n",
            "Location: https://raw.githubusercontent.com/ShawnHymel/ei-faucet-dataset/master/faucet_dataset_v01.zip [following]\n",
            "--2021-01-07 01:33:16--  https://raw.githubusercontent.com/ShawnHymel/ei-faucet-dataset/master/faucet_dataset_v01.zip\n",
            "Resolving raw.githubusercontent.com (raw.githubusercontent.com)... 151.101.0.133, 151.101.64.133, 151.101.128.133, ...\n",
            "Connecting to raw.githubusercontent.com (raw.githubusercontent.com)|151.101.0.133|:443... connected.\n",
            "HTTP request sent, awaiting response... 200 OK\n",
            "Length: 22657140 (22M) [application/zip]\n",
            "Saving to: ‘faucet_dataset_v01.zip’\n",
            "\n",
            "faucet_dataset_v01. 100%[===================>]  21.61M  75.1MB/s    in 0.3s    \n",
            "\n",
            "2021-01-07 01:33:17 (75.1 MB/s) - ‘faucet_dataset_v01.zip’ saved [22657140/22657140]\n",
            "\n",
            "Extracting...\n"
          ],
          "name": "stdout"
        }
      ]
    },
    {
      "cell_type": "code",
      "metadata": {
        "id": "pnKXURDYtUFI"
      },
      "source": [
        "### Pull out background noise directory\r\n",
        "!cd {BASE_DIR}\r\n",
        "!mv \"{join(EI_DATASET_DIR, BG_DIR)}\" \"{BG_DIR}\""
      ],
      "execution_count": 6,
      "outputs": []
    },
    {
      "cell_type": "code",
      "metadata": {
        "id": "cdesARuAtcgc"
      },
      "source": [
        "### User Settings (do change these)\r\n",
        "\r\n",
        "# Location of your custom keyword samples (e.g. \"/content/custom_sounds\")\r\n",
        "# Leave blank (\"\") for no custom keywords.\r\n",
        "CUSTOM_DATASET_PATH = \"/content/custom_sounds\"\r\n",
        "\r\n",
        "# Edge Impulse > your_project > Dashboard > Keys\r\n",
        "EI_API_KEY = \"ei_2a78aa9af8f16414d24394b68c7fe180bd597adc6e391a535485eccf433ba5c7\" \r\n",
        "\r\n",
        "# Comma separated words. Must match directory names (that contain samples).\r\n",
        "# Recommended: use 2 or 3 labels for microcontroller demo\r\n",
        "TARGETS = \"fan, faucet\""
      ],
      "execution_count": 7,
      "outputs": []
    },
    {
      "cell_type": "code",
      "metadata": {
        "colab": {
          "base_uri": "https://localhost:8080/"
        },
        "id": "Pjr1mfEHgzG-",
        "outputId": "2abb333e-9d60-48fe-aeb6-605e1074c5a4"
      },
      "source": [
        "### Download curation and utils scripts\r\n",
        "!wget {CURATION_SCRIPT_URL}\r\n",
        "!wget {UTILS_SCRIPT_URL}"
      ],
      "execution_count": 8,
      "outputs": [
        {
          "output_type": "stream",
          "text": [
            "--2021-01-07 01:43:30--  https://raw.githubusercontent.com/ShawnHymel/ei-keyword-spotting/master/dataset-curation.py\n",
            "Resolving raw.githubusercontent.com (raw.githubusercontent.com)... 151.101.0.133, 151.101.64.133, 151.101.128.133, ...\n",
            "Connecting to raw.githubusercontent.com (raw.githubusercontent.com)|151.101.0.133|:443... connected.\n",
            "HTTP request sent, awaiting response... 200 OK\n",
            "Length: 17199 (17K) [text/plain]\n",
            "Saving to: ‘dataset-curation.py’\n",
            "\n",
            "dataset-curation.py 100%[===================>]  16.80K  --.-KB/s    in 0s      \n",
            "\n",
            "2021-01-07 01:43:30 (50.9 MB/s) - ‘dataset-curation.py’ saved [17199/17199]\n",
            "\n",
            "--2021-01-07 01:43:30--  https://raw.githubusercontent.com/ShawnHymel/ei-keyword-spotting/master/utils.py\n",
            "Resolving raw.githubusercontent.com (raw.githubusercontent.com)... 151.101.0.133, 151.101.64.133, 151.101.128.133, ...\n",
            "Connecting to raw.githubusercontent.com (raw.githubusercontent.com)|151.101.0.133|:443... connected.\n",
            "HTTP request sent, awaiting response... 200 OK\n",
            "Length: 3966 (3.9K) [text/plain]\n",
            "Saving to: ‘utils.py’\n",
            "\n",
            "utils.py            100%[===================>]   3.87K  --.-KB/s    in 0s      \n",
            "\n",
            "2021-01-07 01:43:30 (63.0 MB/s) - ‘utils.py’ saved [3966/3966]\n",
            "\n"
          ],
          "name": "stdout"
        }
      ]
    },
    {
      "cell_type": "code",
      "metadata": {
        "colab": {
          "base_uri": "https://localhost:8080/"
        },
        "id": "afLxQoxZg1Xz",
        "outputId": "c1f616d2-c363-4db3-de7f-3f58915cf0db"
      },
      "source": [
        "### Perform curation and mixing of samples with background noise\r\n",
        "!cd {BASE_DIR}\r\n",
        "!python \"{CURATION_SCRIPT}\" \\\r\n",
        "  -t \"{TARGETS}\" \\\r\n",
        "  -n {NUM_SAMPLES} \\\r\n",
        "  -w {WORD_VOL} \\\r\n",
        "  -g {BG_VOL} \\\r\n",
        "  -s {SAMPLE_TIME} \\\r\n",
        "  -r {SAMPLE_RATE} \\\r\n",
        "  -e {BIT_DEPTH} \\\r\n",
        "  -b \"{BG_DIR}\" \\\r\n",
        "  -o \"{OUT_DIR}\" \\\r\n",
        "  \"{EI_DATASET_DIR}\" \\\r\n",
        "  \"{CUSTOM_DATASET_PATH}\""
      ],
      "execution_count": 20,
      "outputs": [
        {
          "output_type": "stream",
          "text": [
            "-----------------------------------------------------------------------\n",
            "Keyword Dataset Curation Tool\n",
            "v0.1\n",
            "-----------------------------------------------------------------------\n",
            "Gathering random background noise snippets (1500 files)\n",
            "Traceback (most recent call last):\n",
            "  File \"/usr/local/lib/python3.6/dist-packages/audioread/ffdec.py\", line 94, in popen_multiple\n",
            "    return subprocess.Popen(cmd, *args, **kwargs)\n",
            "  File \"/usr/lib/python3.6/subprocess.py\", line 729, in __init__\n",
            "    restore_signals, start_new_session)\n",
            "  File \"/usr/lib/python3.6/subprocess.py\", line 1318, in _execute_child\n",
            "    part = os.read(errpipe_read, 50000)\n",
            "KeyboardInterrupt\n",
            "\n",
            "During handling of the above exception, another exception occurred:\n",
            "\n",
            "Traceback (most recent call last):\n",
            "  File \"dataset-curation.py\", line 344, in <module>\n",
            "    sample_rate=sample_rate)\n",
            "  File \"dataset-curation.py\", line 126, in mix_audio\n",
            "    bg_waveform, fs = librosa.load(bg_path, sr=fs)\n",
            "  File \"/usr/local/lib/python3.6/dist-packages/librosa/core/audio.py\", line 119, in load\n",
            "    with audioread.audio_open(os.path.realpath(path)) as input_file:\n",
            "  File \"/usr/local/lib/python3.6/dist-packages/audioread/__init__.py\", line 107, in audio_open\n",
            "    backends = available_backends()\n",
            "  File \"/usr/local/lib/python3.6/dist-packages/audioread/__init__.py\", line 86, in available_backends\n",
            "    if ffdec.available():\n",
            "  File \"/usr/local/lib/python3.6/dist-packages/audioread/ffdec.py\", line 110, in available\n",
            "    creationflags=PROC_FLAGS,\n",
            "  File \"/usr/local/lib/python3.6/dist-packages/audioread/ffdec.py\", line 94, in popen_multiple\n",
            "    return subprocess.Popen(cmd, *args, **kwargs)\n",
            "KeyboardInterrupt\n"
          ],
          "name": "stdout"
        }
      ]
    },
    {
      "cell_type": "code",
      "metadata": {
        "colab": {
          "base_uri": "https://localhost:8080/"
        },
        "id": "Zei-FtJAhMCY",
        "outputId": "428f73bc-c902-4fd5-c0b7-ca2812e647f3"
      },
      "source": [
        "!python {CURATION_SCRIPT}"
      ],
      "execution_count": 19,
      "outputs": [
        {
          "output_type": "stream",
          "text": [
            "usage: dataset-curation.py [-h] -t TARGETS [-n NUM_SAMPLES] [-w WORD_VOL]\n",
            "                           [-g BG_VOL] [-s SAMPLE_TIME] [-r SAMPLE_RATE]\n",
            "                           [-e {PCM_16,PCM_24,PCM_32,PCM_U8,FLOAT,DOUBLE}] -b\n",
            "                           BG_DIR -o OUT_DIR\n",
            "                           d [d ...]\n",
            "dataset-curation.py: error: the following arguments are required: -t/--targets, -b/--bg_dir, -o/--out_dir, d\n"
          ],
          "name": "stdout"
        }
      ]
    },
    {
      "cell_type": "code",
      "metadata": {
        "id": "VUwqqIGkhgpA"
      },
      "source": [
        ""
      ],
      "execution_count": null,
      "outputs": []
    }
  ]
}
